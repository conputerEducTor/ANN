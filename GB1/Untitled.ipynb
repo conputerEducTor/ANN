{
  "nbformat": 4,
  "nbformat_minor": 0,
  "metadata": {
    "colab": {
      "provenance": []
    },
    "kernelspec": {
      "name": "python3",
      "display_name": "Python 3"
    },
    "language_info": {
      "name": "python"
    }
  },
  "cells": [
    {
      "cell_type": "code",
      "execution_count": 4,
      "metadata": {
        "colab": {
          "base_uri": "https://localhost:8080/"
        },
        "id": "7Ikg7EyIQhTb",
        "outputId": "948b5e7a-09b9-4fdc-eab3-5842540c0896"
      },
      "outputs": [
        {
          "output_type": "stream",
          "name": "stdout",
          "text": [
            "1/1 [==============================] - 0s 48ms/step\n",
            "Input: [0. 0.], Output: [0.], Predicted: 0.01447119377553463\n",
            "1/1 [==============================] - 0s 21ms/step\n",
            "Input: [0. 1.], Output: [1.], Predicted: 0.9801816344261169\n",
            "1/1 [==============================] - 0s 21ms/step\n",
            "Input: [1. 0.], Output: [1.], Predicted: 0.9871631264686584\n",
            "1/1 [==============================] - 0s 23ms/step\n",
            "Input: [1. 1.], Output: [0.], Predicted: 0.012255762703716755\n",
            "\n",
            "\n",
            "Nirmal\n"
          ]
        }
      ],
      "source": [
        "import tensorflow as tf\n",
        "\n",
        "\n",
        "inputs = tf.constant([[0, 0], [0, 1], [1, 0], [1, 1]], dtype=tf.float32)\n",
        "outputs = tf.constant([[0], [1], [1], [0]], dtype=tf.float32)\n",
        "\n",
        "\n",
        "model = tf.keras.Sequential([\n",
        "  tf.keras.layers.Dense(2, activation='sigmoid', input_shape=(2,)),\n",
        "  tf.keras.layers.Dense(1, activation='sigmoid')\n",
        "])\n",
        "\n",
        "\n",
        "model.compile(optimizer=tf.keras.optimizers.SGD(learning_rate=0.1), loss='binary_crossentropy')\n",
        "\n",
        "\n",
        "model.fit(inputs, outputs, epochs=10000, verbose=0)\n",
        "\n",
        "\n",
        "for input, output in zip(inputs, outputs):\n",
        "  prediction = model.predict(tf.reshape(input, (1,2)))\n",
        "  print(\"Input: {}, Output: {}, Predicted: {}\".format(input.numpy(), output.numpy(), prediction[0][0]))\n",
        "print(\"\\n\")\n",
        "print(\"Nirmal\")"
      ]
    },
    {
      "cell_type": "code",
      "source": [
        "import tensorflow as tf\n",
        "\n",
        "\n",
        "inputs = tf.constant([[0, 0], [0, 1], [1, 0], [1, 1]], dtype=tf.float32)\n",
        "outputs = tf.constant([[0], [1], [1], [0]], dtype=tf.float32)\n",
        "\n",
        "\n",
        "model = tf.keras.Sequential([\n",
        "  tf.keras.layers.Dense(2, activation='sigmoid', input_shape=(2,)),\n",
        "  tf.keras.layers.Dense(1, activation='sigmoid')\n",
        "])\n",
        "\n",
        "\n",
        "model.compile(optimizer=tf.keras.optimizers.SGD(learning_rate=0.1), loss='binary_crossentropy')\n",
        "\n",
        "\n",
        "model.fit(inputs, outputs, epochs=100000, verbose=0)\n",
        "\n",
        "\n",
        "for input, output in zip(inputs, outputs):\n",
        "  prediction = model.predict(tf.reshape(input, (1,2)))\n",
        "  print(\"Input: {}, Output: {}, Predicted: {}\".format(input.numpy(), output.numpy(), prediction[0][0]))\n",
        "print(\"\\n\")\n",
        "print(\"Nirmal\")"
      ],
      "metadata": {
        "colab": {
          "base_uri": "https://localhost:8080/"
        },
        "id": "v_KbjpxOSFDx",
        "outputId": "30acffbe-7ad3-4378-e255-b94f9bd04174"
      },
      "execution_count": 5,
      "outputs": [
        {
          "output_type": "stream",
          "name": "stdout",
          "text": [
            "1/1 [==============================] - 0s 49ms/step\n",
            "Input: [0. 0.], Output: [0.], Predicted: 0.0012524871854111552\n",
            "1/1 [==============================] - 0s 22ms/step\n",
            "Input: [0. 1.], Output: [1.], Predicted: 0.9991303086280823\n",
            "1/1 [==============================] - 0s 22ms/step\n",
            "Input: [1. 0.], Output: [1.], Predicted: 0.9991283416748047\n",
            "1/1 [==============================] - 0s 27ms/step\n",
            "Input: [1. 1.], Output: [0.], Predicted: 0.000893083109986037\n",
            "\n",
            "\n",
            "Nirmal\n"
          ]
        }
      ]
    }
  ]
}