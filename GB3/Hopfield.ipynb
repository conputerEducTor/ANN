{
 "cells": [
  {
   "cell_type": "code",
   "execution_count": 8,
   "id": "9d0a8c4f-91df-469d-be43-d29ed727919f",
   "metadata": {},
   "outputs": [
    {
     "name": "stdout",
     "output_type": "stream",
     "text": [
      "Input vector:  [ 1  1  1 -1]\n",
      "Output vector:  [ 1.  1.  1. -1.]\n"
     ]
    }
   ],
   "source": [
    "import numpy as np\n",
    "\n",
    "# Define the input vectors\n",
    "v1 = np.array([-1, 1, 1, -1])\n",
    "v2 = np.array([1, -1, 1, -1])\n",
    "v3 = np.array([-1, -1, 1, 1])\n",
    "v4 = np.array([1, 1, 1, -1])\n",
    "\n",
    "# Initialize the weights matrix\n",
    "W = np.zeros((4, 4))\n",
    "\n",
    "# Compute the weights\n",
    "for v in [v1, v2, v3, v4]:\n",
    "    W += np.outer(v, v)\n",
    "\n",
    "# Set the diagonal elements to zero\n",
    "np.fill_diagonal(W, 0)\n",
    "\n",
    "# Define the activation function\n",
    "def activation(x):\n",
    "    return np.sign(x)\n",
    "\n",
    "# Define the Hopfield network function\n",
    "def hopfield(input_vec, W):\n",
    "    output_vec = activation(np.dot(W, input_vec))\n",
    "    return output_vec\n",
    "\n",
    "# Test the Hopfield network with an input vector\n",
    "input_vec = np.array([1, 1, 1, -1])\n",
    "output_vec = hopfield(input_vec, W)\n",
    "\n",
    "print(\"Input vector: \", input_vec)\n",
    "print(\"Output vector: \", output_vec)\n"
   ]
  },
  {
   "cell_type": "markdown",
   "id": "36153967-0fa8-48d7-aa8e-b9fdaf2d7430",
   "metadata": {},
   "source": [
    "- Nirmal\n"
   ]
  },
  {
   "cell_type": "code",
   "execution_count": null,
   "id": "4d9f6624-117d-4745-a2a5-1e8ca9073f4e",
   "metadata": {},
   "outputs": [],
   "source": []
  }
 ],
 "metadata": {
  "kernelspec": {
   "display_name": "Python 3 (ipykernel)",
   "language": "python",
   "name": "python3"
  },
  "language_info": {
   "codemirror_mode": {
    "name": "ipython",
    "version": 3
   },
   "file_extension": ".py",
   "mimetype": "text/x-python",
   "name": "python",
   "nbconvert_exporter": "python",
   "pygments_lexer": "ipython3",
   "version": "3.9.12"
  }
 },
 "nbformat": 4,
 "nbformat_minor": 5
}
