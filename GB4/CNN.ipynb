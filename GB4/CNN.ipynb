{
 "cells": [
  {
   "cell_type": "code",
   "execution_count": 6,
   "id": "4efaee02-702b-4597-b833-22df6b8ca6ae",
   "metadata": {},
   "outputs": [
    {
     "name": "stdout",
     "output_type": "stream",
     "text": [
      "1/1 [==============================] - 4s 4s/step\n",
      "Egyptian_cat: 76.03%\n",
      "tabby: 9.60%\n",
      "tiger_cat: 5.63%\n",
      "lynx: 1.74%\n",
      "plastic_bag: 0.64%\n"
     ]
    }
   ],
   "source": [
    "import cv2\n",
    "import numpy as np\n",
    "import tensorflow as tf\n",
    "\n",
    "# Load the pre-trained model\n",
    "model = tf.keras.applications.MobileNetV2(weights='imagenet', include_top=True)\n",
    "\n",
    "# Load an image for object detection\n",
    "image = cv2.imread('test_image.jpeg')\n",
    "image = cv2.resize(image, (224, 224))\n",
    "image = np.expand_dims(image, axis=0)\n",
    "\n",
    "# Preprocess the image for the model\n",
    "image = tf.keras.applications.mobilenet_v2.preprocess_input(image)\n",
    "\n",
    "# Detect objects in the image\n",
    "predictions = model.predict(image)\n",
    "decoded_predictions = tf.keras.applications.mobilenet_v2.decode_predictions(predictions, top=5)\n",
    "\n",
    "# Print the top 5 predictions\n",
    "for pred in decoded_predictions[0]:\n",
    "    print(f\"{pred[1]}: {pred[2]*100:.2f}%\")\n"
   ]
  },
  {
   "cell_type": "markdown",
   "id": "bd3f4db4-f217-4204-a705-49fb21a6920e",
   "metadata": {},
   "source": [
    "- Nirmal"
   ]
  },
  {
   "cell_type": "code",
   "execution_count": null,
   "id": "7e3162fd-3566-486e-af5a-49a3edd553fa",
   "metadata": {},
   "outputs": [],
   "source": []
  }
 ],
 "metadata": {
  "kernelspec": {
   "display_name": "Python 3 (ipykernel)",
   "language": "python",
   "name": "python3"
  },
  "language_info": {
   "codemirror_mode": {
    "name": "ipython",
    "version": 3
   },
   "file_extension": ".py",
   "mimetype": "text/x-python",
   "name": "python",
   "nbconvert_exporter": "python",
   "pygments_lexer": "ipython3",
   "version": "3.9.12"
  }
 },
 "nbformat": 4,
 "nbformat_minor": 5
}
