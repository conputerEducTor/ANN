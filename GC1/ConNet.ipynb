{
 "cells": [
  {
   "cell_type": "code",
   "execution_count": 3,
   "id": "17e9e1d7-3dfc-4354-a73b-9346dab8b8f6",
   "metadata": {},
   "outputs": [
    {
     "name": "stdout",
     "output_type": "stream",
     "text": [
      "Epoch 1/15\n",
      "1563/1563 [==============================] - 32s 19ms/step - loss: 1.4899 - accuracy: 0.4561 - val_loss: 1.2582 - val_accuracy: 0.5479\n",
      "Epoch 2/15\n",
      "1563/1563 [==============================] - 32s 21ms/step - loss: 1.1187 - accuracy: 0.6034 - val_loss: 1.0288 - val_accuracy: 0.6374\n",
      "Epoch 3/15\n",
      "1563/1563 [==============================] - 32s 21ms/step - loss: 0.9689 - accuracy: 0.6604 - val_loss: 1.0079 - val_accuracy: 0.6417\n",
      "Epoch 4/15\n",
      "1563/1563 [==============================] - 33s 21ms/step - loss: 0.8668 - accuracy: 0.6963 - val_loss: 0.8810 - val_accuracy: 0.6957\n",
      "Epoch 5/15\n",
      "1563/1563 [==============================] - 32s 21ms/step - loss: 0.7910 - accuracy: 0.7222 - val_loss: 0.8941 - val_accuracy: 0.6863\n",
      "Epoch 6/15\n",
      "1563/1563 [==============================] - 50s 32ms/step - loss: 0.7320 - accuracy: 0.7449 - val_loss: 0.8412 - val_accuracy: 0.7130\n",
      "Epoch 7/15\n",
      "1563/1563 [==============================] - 49s 32ms/step - loss: 0.6821 - accuracy: 0.7623 - val_loss: 0.8453 - val_accuracy: 0.7051\n",
      "Epoch 8/15\n",
      "1563/1563 [==============================] - 35s 22ms/step - loss: 0.6316 - accuracy: 0.7794 - val_loss: 0.8254 - val_accuracy: 0.7232\n",
      "Epoch 9/15\n",
      "1563/1563 [==============================] - 34s 22ms/step - loss: 0.5958 - accuracy: 0.7905 - val_loss: 0.8384 - val_accuracy: 0.7216\n",
      "Epoch 10/15\n",
      "1563/1563 [==============================] - 34s 21ms/step - loss: 0.5509 - accuracy: 0.8072 - val_loss: 0.8654 - val_accuracy: 0.7209\n",
      "Epoch 11/15\n",
      "1563/1563 [==============================] - 37s 24ms/step - loss: 0.5176 - accuracy: 0.8169 - val_loss: 0.8529 - val_accuracy: 0.7246\n",
      "Epoch 12/15\n",
      "1563/1563 [==============================] - 44s 28ms/step - loss: 0.4863 - accuracy: 0.8289 - val_loss: 0.8700 - val_accuracy: 0.7242\n",
      "Epoch 13/15\n",
      "1563/1563 [==============================] - 39s 25ms/step - loss: 0.4584 - accuracy: 0.8368 - val_loss: 0.9504 - val_accuracy: 0.7131\n",
      "Epoch 14/15\n",
      "1563/1563 [==============================] - 38s 24ms/step - loss: 0.4236 - accuracy: 0.8501 - val_loss: 0.9233 - val_accuracy: 0.7190\n",
      "Epoch 15/15\n",
      "1563/1563 [==============================] - 35s 23ms/step - loss: 0.3982 - accuracy: 0.8605 - val_loss: 0.9684 - val_accuracy: 0.7298\n",
      "313/313 [==============================] - 3s 9ms/step - loss: 0.9684 - accuracy: 0.7298\n",
      "Test accuracy: 0.7297999858856201\n"
     ]
    }
   ],
   "source": [
    "import tensorflow as tf\n",
    "\n",
    "# Load the CIFAR-10 dataset\n",
    "(train_images, train_labels), (test_images, test_labels) = tf.keras.datasets.cifar10.load_data()\n",
    "\n",
    "# Normalize the pixel values to be between 0 and 1\n",
    "train_images = train_images / 255.0\n",
    "test_images = test_images / 255.0\n",
    "\n",
    "# Define the model architecture\n",
    "model = tf.keras.models.Sequential([\n",
    "  tf.keras.layers.Conv2D(32, (3, 3), activation='relu', input_shape=(32, 32, 3)),\n",
    "  tf.keras.layers.MaxPooling2D((2, 2)),\n",
    "  tf.keras.layers.Conv2D(64, (3, 3), activation='relu'),\n",
    "  tf.keras.layers.MaxPooling2D((2, 2)),\n",
    "  tf.keras.layers.Conv2D(64, (3, 3), activation='relu'),\n",
    "  tf.keras.layers.Flatten(),\n",
    "  tf.keras.layers.Dense(64, activation='relu'),  \n",
    "  tf.keras.layers.Dense(10)\n",
    "])\n",
    "\n",
    "# Compile the model\n",
    "model.compile(optimizer='adam',\n",
    "              loss=tf.keras.losses.SparseCategoricalCrossentropy(from_logits=True),\n",
    "              metrics=['accuracy'])\n",
    "\n",
    "# Train the model on the training set\n",
    "history = model.fit(train_images, train_labels, epochs=15, \n",
    "                    validation_data=(test_images, test_labels))\n",
    "\n",
    "# Evaluate the model on the test set\n",
    "test_loss, test_acc = model.evaluate(test_images, test_labels)\n",
    "\n",
    "print(\"Test accuracy:\", test_acc)"
   ]
  },
  {
   "cell_type": "markdown",
   "id": "d9d291f8-70b4-41fc-80d7-78e60da7b8a0",
   "metadata": {},
   "source": [
    "- Nirmal"
   ]
  },
  {
   "cell_type": "code",
   "execution_count": null,
   "id": "ff6dc8ce-0a1f-4281-8b06-f5c22b72aae0",
   "metadata": {},
   "outputs": [],
   "source": []
  }
 ],
 "metadata": {
  "kernelspec": {
   "display_name": "Python 3 (ipykernel)",
   "language": "python",
   "name": "python3"
  },
  "language_info": {
   "codemirror_mode": {
    "name": "ipython",
    "version": 3
   },
   "file_extension": ".py",
   "mimetype": "text/x-python",
   "name": "python",
   "nbconvert_exporter": "python",
   "pygments_lexer": "ipython3",
   "version": "3.9.12"
  }
 },
 "nbformat": 4,
 "nbformat_minor": 5
}
