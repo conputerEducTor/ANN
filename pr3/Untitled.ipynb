{
 "cells": [
  {
   "cell_type": "code",
   "execution_count": 16,
   "id": "3c39f494-bf16-434a-8051-3534298c0080",
   "metadata": {},
   "outputs": [
    {
     "name": "stdin",
     "output_type": "stream",
     "text": [
      "Enter Num1:  48\n",
      "Enter Num2:  58\n"
     ]
    },
    {
     "name": "stdout",
     "output_type": "stream",
     "text": [
      "0 \t\t 48\n",
      "1 \t\t 49\n",
      "2 \t\t 50\n",
      "3 \t\t 51\n",
      "4 \t\t 52\n",
      "5 \t\t 53\n",
      "6 \t\t 54\n",
      "7 \t\t 55\n",
      "8 \t\t 56\n",
      "9 \t\t 57\n"
     ]
    },
    {
     "data": {
      "image/png": "[encoded data removed]",
      "text/plain": [
       "<Figure size 432x288 with 1 Axes>"
      ]
     },
     "metadata": {
      "needs_background": "light"
     },
     "output_type": "display_data"
    }
   ],
   "source": [
    "%matplotlib inline\n",
    "import matplotlib.pyplot as plt\n",
    "\n",
    "num1=48\n",
    "num2=58\n",
    "\n",
    "for x in range(num1,num2):\n",
    "    ch=chr(x)\n",
    "    print(ch,\"\\t\\t\",x)\n",
    "evens = [x for x in X if x % 2 == 0]\n",
    "odds = [x for x in X if x % 2 != 0]\n",
    "data = (evens, odds)\n",
    "colors = (\"green\", \"blue\")\n",
    "groups = (\"Even\", \"Odd\") \n",
    "\n",
    "fig = plt.figure()\n",
    "ax = fig.add_subplot(1, 1, 1)\n",
    "for data, color, group in zip(data, colors, groups):\n",
    "    x = data\n",
    "    ax.scatter(x, x, alpha=0.8, c=color, edgecolors='none', s=30, label=group)\n",
    "plt.title('Even/Odd numbers')\n",
    "plt.legend(loc=2)\n",
    "\n",
    "plt.show()"
   ]
  },
  {
   "cell_type": "code",
   "execution_count": 53,
   "id": "5dfa99f4-4c92-4341-9f86-0001950b1396",
   "metadata": {},
   "outputs": [
    {
     "name": "stdout",
     "output_type": "stream",
     "text": [
      "Nirmal\n",
      "Even\n",
      "Odd\n",
      "Even\n",
      "Odd\n"
     ]
    }
   ],
   "source": [
    "import numpy as np\n",
    "\n",
    "\n",
    "X = np.array([\n",
    "    [0, 0, 0, 0, 0, 0, 1, 1, 1, 1],  # 0\n",
    "    [0, 0, 1, 1, 1, 1, 1, 0, 1, 1],  # 1\n",
    "    [0, 1, 0, 0, 0, 1, 1, 1, 1, 1],  # 2\n",
    "    [0, 1, 1, 0, 1, 1, 1, 1, 0, 1],  # 3\n",
    "    [0, 1, 1, 1, 0, 0, 1, 0, 0, 1],  # 4\n",
    "    [0, 1, 1, 1, 1, 1, 0, 1, 0, 1],  # 5\n",
    "    [0, 1, 1, 1, 1, 1, 1, 1, 0, 1],  # 6\n",
    "    [0, 0, 0, 1, 0, 0, 1, 0, 1, 1],  # 7\n",
    "    [0, 1, 1, 1, 1, 1, 1, 1, 1, 1],  # 8\n",
    "    [0, 1, 1, 1, 0, 1, 1, 1, 1, 1],  # 9\n",
    "])\n",
    "\n",
    "\n",
    "y = np.array([-1, 1, -1, 1, 1, -1, -1, 1, -1, 1])  \n",
    "\n",
    "def activation(x):\n",
    "    return np.where(x >= 0, 1, -1)\n",
    "\n",
    "\n",
    "def train(X, y, epochs=1, lr=0.01):\n",
    "    X = np.insert(X, 0, 1, axis=1)\n",
    "    w = np.random.randn(X.shape[1])\n",
    "    for epoch in range(epochs):\n",
    "        for i in range(X.shape[0]):\n",
    "            net_input = np.dot(X[i], w)\n",
    "            output = activation(net_input)\n",
    "            delta = lr * (y[i] - output)\n",
    "            w += delta * X[i]\n",
    "    return w\n",
    "\n",
    "w = train(X, y)\n",
    "\n",
    "def predict(x):\n",
    "    x = np.insert(x, 0, 1)\n",
    "    net_input = np.dot(x, w)\n",
    "    output = activation(net_input)\n",
    "    return \"Even\" if output == -1 else \"Odd\"\n",
    "print(\"Nirmal\")\n",
    "print(predict([0, 0, 0, 0, 0, 0, 1, 1, 1, 1]))  # 0\n",
    "print(predict([0, 0, 1, 1, 1, 1, 1, 0, 1, 1]))  # 1\n",
    "print(predict([0, 1, 0, 0, 0, 1, 1, 1, 1, 1]))  # 2\n",
    "print(predict([0, 1, 1, 0, 1, 1, 1, 1, 0, 1]))  # 3\n",
    "\n"
   ]
  },
  {
   "cell_type": "code",
   "execution_count": null,
   "id": "6209b1e8-a21d-44be-bf2e-0b2dd82898a9",
   "metadata": {},
   "outputs": [],
   "source": []
  }
 ],
 "metadata": {
  "kernelspec": {
   "display_name": "Python 3 (ipykernel)",
   "language": "python",
   "name": "python3"
  },
  "language_info": {
   "codemirror_mode": {
    "name": "ipython",
    "version": 3
   },
   "file_extension": ".py",
   "mimetype": "text/x-python",
   "name": "python",
   "nbconvert_exporter": "python",
   "pygments_lexer": "ipython3",
   "version": "3.9.12"
  }
 },
 "nbformat": 4,
 "nbformat_minor": 5
}
