{
 "cells": [
  {
   "cell_type": "code",
   "execution_count": 1,
   "id": "445d0361",
   "metadata": {
    "_cell_guid": "b1076dfc-b9ad-4769-8c92-a6c4dae69d19",
    "_uuid": "8f2839f25d086af736a60e9eeb907d3b93b6e0e5",
    "execution": {
     "iopub.execute_input": "2023-04-18T15:21:43.092924Z",
     "iopub.status.busy": "2023-04-18T15:21:43.092502Z",
     "iopub.status.idle": "2023-04-18T15:21:45.484282Z",
     "shell.execute_reply": "2023-04-18T15:21:45.483145Z"
    },
    "papermill": {
     "duration": 2.399746,
     "end_time": "2023-04-18T15:21:45.486991",
     "exception": false,
     "start_time": "2023-04-18T15:21:43.087245",
     "status": "completed"
    },
    "tags": []
   },
   "outputs": [
    {
     "name": "stdout",
     "output_type": "stream",
     "text": [
      "/kaggle/input/digit-recognizer/sample_submission.csv\n",
      "/kaggle/input/digit-recognizer/train.csv\n",
      "/kaggle/input/digit-recognizer/test.csv\n"
     ]
    }
   ],
   "source": [
    "# This Python 3 environment comes with many helpful analytics libraries installed\n",
    "# It is defined by the kaggle/python Docker image: https://github.com/kaggle/docker-python\n",
    "# For example, here's several helpful packages to load\n",
    "\n",
    "import numpy as np # linear algebra\n",
    "import pandas as pd # data processing, CSV file I/O (e.g. pd.read_csv)\n",
    "\n",
    "from matplotlib import pyplot as plt\n",
    "\n",
    "import torch\n",
    "import torch.nn as nn\n",
    "from torch.utils.data import Dataset, DataLoader\n",
    "\n",
    "# Input data files are available in the read-only \"../input/\" directory\n",
    "# For example, running this (by clicking run or pressing Shift+Enter) will list all files under the input directory\n",
    "\n",
    "import os\n",
    "for dirname, _, filenames in os.walk('/kaggle/input'):\n",
    "    for filename in filenames:\n",
    "        print(os.path.join(dirname, filename))\n",
    "\n",
    "# You can write up to 20GB to the current directory (/kaggle/working/) that gets preserved as output when you create a version using \"Save & Run All\" \n",
    "# You can also write temporary files to /kaggle/temp/, but they won't be saved outside of the current session"
   ]
  },
  {
   "cell_type": "code",
   "execution_count": 2,
   "id": "d3486710",
   "metadata": {
    "execution": {
     "iopub.execute_input": "2023-04-18T15:21:45.495789Z",
     "iopub.status.busy": "2023-04-18T15:21:45.493964Z",
     "iopub.status.idle": "2023-04-18T15:21:45.501999Z",
     "shell.execute_reply": "2023-04-18T15:21:45.500908Z"
    },
    "papermill": {
     "duration": 0.014827,
     "end_time": "2023-04-18T15:21:45.504866",
     "exception": false,
     "start_time": "2023-04-18T15:21:45.490039",
     "status": "completed"
    },
    "tags": []
   },
   "outputs": [
    {
     "data": {
      "text/plain": [
       "device(type='cuda')"
      ]
     },
     "execution_count": 2,
     "metadata": {},
     "output_type": "execute_result"
    }
   ],
   "source": [
    "device = torch.device(\"cuda\")\n",
    "device"
   ]
  },
  {
   "cell_type": "code",
   "execution_count": 3,
   "id": "866c0159",
   "metadata": {
    "execution": {
     "iopub.execute_input": "2023-04-18T15:21:45.512201Z",
     "iopub.status.busy": "2023-04-18T15:21:45.511344Z",
     "iopub.status.idle": "2023-04-18T15:21:50.623327Z",
     "shell.execute_reply": "2023-04-18T15:21:50.622302Z"
    },
    "papermill": {
     "duration": 5.118553,
     "end_time": "2023-04-18T15:21:50.626234",
     "exception": false,
     "start_time": "2023-04-18T15:21:45.507681",
     "status": "completed"
    },
    "tags": []
   },
   "outputs": [],
   "source": [
    "class MNISTDataset(Dataset):\n",
    "    def __init__(self, is_train:bool=True):\n",
    "        self.is_train = is_train\n",
    "        if self.is_train:\n",
    "            self.data_path = \"/kaggle/input/digit-recognizer/train.csv\"\n",
    "        else:\n",
    "            self.data_path = \"/kaggle/input/digit-recognizer/test.csv\"\n",
    "        self.image = None\n",
    "        self.label = None\n",
    "        df = pd.read_csv(self.data_path)\n",
    "        if self.is_train:\n",
    "            self.label = df[\"label\"].to_numpy().reshape(-1, 1)\n",
    "            df = df.drop(columns='label')\n",
    "        self.image = df.to_numpy().reshape(-1, 1, 28, 28) / 255\n",
    " \n",
    "    def __len__(self):\n",
    "        return len(self.image)\n",
    "    \n",
    "    def __getitem__(self, index):\n",
    "        image = torch.FloatTensor(self.image[index])\n",
    "        if self.is_train:\n",
    "            label = torch.zeros(10, dtype=torch.float)\n",
    "            label[int(self.label[index])] = 1.0\n",
    "            return image, label\n",
    "        else:\n",
    "            return image\n",
    "    \n",
    "train_datasets = MNISTDataset(is_train=True)\n",
    "train_dataloader = DataLoader(train_datasets, batch_size=100, shuffle=True)\n",
    "\n",
    "test_datasets = MNISTDataset(is_train=False)\n",
    "test_dataloader = DataLoader(test_datasets, batch_size=100, shuffle=False)"
   ]
  },
  {
   "cell_type": "code",
   "execution_count": 4,
   "id": "51fbe76c",
   "metadata": {
    "execution": {
     "iopub.execute_input": "2023-04-18T15:21:50.633941Z",
     "iopub.status.busy": "2023-04-18T15:21:50.633627Z",
     "iopub.status.idle": "2023-04-18T15:21:53.258317Z",
     "shell.execute_reply": "2023-04-18T15:21:53.257281Z"
    },
    "papermill": {
     "duration": 2.631393,
     "end_time": "2023-04-18T15:21:53.260888",
     "exception": false,
     "start_time": "2023-04-18T15:21:50.629495",
     "status": "completed"
    },
    "tags": []
   },
   "outputs": [],
   "source": [
    "class SimpleCNN(nn.Module):\n",
    "    def __init__(self):\n",
    "        super(SimpleCNN, self).__init__()\n",
    "        self.seq1 = nn.Sequential(\n",
    "            nn.Conv2d(1, 32, kernel_size=3, stride=1, padding=1),\n",
    "            nn.ELU(inplace=True),\n",
    "            nn.MaxPool2d(kernel_size=2, stride=2)\n",
    "        )\n",
    "        \n",
    "        self.seq2 = nn.Sequential(\n",
    "            nn.Conv2d(32, 64, kernel_size=3, stride=1, padding=1),\n",
    "            nn.ELU(inplace=True),\n",
    "            nn.MaxPool2d(kernel_size=2, stride=2)\n",
    "        )\n",
    "        \n",
    "        self.seq3 = nn.Sequential(\n",
    "            nn.Linear(7*7*64, 32, bias=True),\n",
    "            nn.ELU(inplace=True),\n",
    "            nn.Linear(32, 10, bias=True),\n",
    "            nn.ELU()\n",
    "        )\n",
    "        \n",
    "    def forward(self, x):\n",
    "        x = self.seq1(x)\n",
    "        x = self.seq2(x)\n",
    "        x = x.view(x.size(0), -1)\n",
    "        x = self.seq3(x)\n",
    "        return x\n",
    "    \n",
    "model = SimpleCNN()\n",
    "model = model.to(device)\n",
    "\n",
    "criterion = nn.CrossEntropyLoss().to(device)\n",
    "optimizer = torch.optim.Adam(model.parameters(), lr=0.001)"
   ]
  },
  {
   "cell_type": "code",
   "execution_count": 5,
   "id": "bf4f1882",
   "metadata": {
    "execution": {
     "iopub.execute_input": "2023-04-18T15:21:53.268860Z",
     "iopub.status.busy": "2023-04-18T15:21:53.268251Z",
     "iopub.status.idle": "2023-04-18T15:25:47.254289Z",
     "shell.execute_reply": "2023-04-18T15:25:47.252955Z"
    },
    "papermill": {
     "duration": 233.992337,
     "end_time": "2023-04-18T15:25:47.256536",
     "exception": false,
     "start_time": "2023-04-18T15:21:53.264199",
     "status": "completed"
    },
    "tags": []
   },
   "outputs": [
    {
     "name": "stdout",
     "output_type": "stream",
     "text": [
      "EPOCH: [100/100], LOSS: 0.000055"
     ]
    }
   ],
   "source": [
    "history = []\n",
    "\n",
    "EPOCH = 100\n",
    "\n",
    "for epoch in range(EPOCH):\n",
    "    loss_tmp = []\n",
    "    for i, (image, label) in enumerate(train_dataloader):\n",
    "        image, label = image.to(device), label.to(device)\n",
    "        y_pred = model(image)\n",
    "        loss = criterion(y_pred, label)\n",
    "        optimizer.zero_grad()\n",
    "        loss.backward()\n",
    "        optimizer.step()\n",
    "        loss_tmp.append(loss.item())\n",
    "    history.append(np.mean(loss_tmp))\n",
    "    print(f\"\\rEPOCH: [{epoch+1}/{EPOCH}], LOSS: {history[-1]:1.6f}\", end=\"\")"
   ]
  },
  {
   "cell_type": "code",
   "execution_count": 6,
   "id": "b9059a6f",
   "metadata": {
    "execution": {
     "iopub.execute_input": "2023-04-18T15:25:47.274250Z",
     "iopub.status.busy": "2023-04-18T15:25:47.273479Z",
     "iopub.status.idle": "2023-04-18T15:25:47.495333Z",
     "shell.execute_reply": "2023-04-18T15:25:47.494385Z"
    },
    "papermill": {
     "duration": 0.233108,
     "end_time": "2023-04-18T15:25:47.497597",
     "exception": false,
     "start_time": "2023-04-18T15:25:47.264489",
     "status": "completed"
    },
    "tags": []
   },
   "outputs": [
    {
     "data": {
      "image/png": "[encoded data removed]",
      "text/plain": [
       "<Figure size 640x480 with 1 Axes>"
      ]
     },
     "metadata": {},
     "output_type": "display_data"
    }
   ],
   "source": [
    "plt.plot(history, label=\"Cross Entropy Loss\")\n",
    "plt.xlabel(\"Epoch\")\n",
    "plt.ylabel(\"Loss\")\n",
    "plt.legend()\n",
    "plt.show()"
   ]
  },
  {
   "cell_type": "code",
   "execution_count": 7,
   "id": "8b35e9ca",
   "metadata": {
    "execution": {
     "iopub.execute_input": "2023-04-18T15:25:47.517492Z",
     "iopub.status.busy": "2023-04-18T15:25:47.516004Z",
     "iopub.status.idle": "2023-04-18T15:25:48.076631Z",
     "shell.execute_reply": "2023-04-18T15:25:48.075598Z"
    },
    "papermill": {
     "duration": 0.573548,
     "end_time": "2023-04-18T15:25:48.079402",
     "exception": false,
     "start_time": "2023-04-18T15:25:47.505854",
     "status": "completed"
    },
    "tags": []
   },
   "outputs": [],
   "source": [
    "result = []\n",
    "for i, image in enumerate(test_dataloader):\n",
    "    image = image.to(device)\n",
    "    y_pred = model(image)\n",
    "    label_pred = torch.argmax(y_pred, dim=1)\n",
    "    result.extend(label_pred.cpu().tolist())"
   ]
  },
  {
   "cell_type": "code",
   "execution_count": 8,
   "id": "7bf2d9b7",
   "metadata": {
    "execution": {
     "iopub.execute_input": "2023-04-18T15:25:48.097234Z",
     "iopub.status.busy": "2023-04-18T15:25:48.096937Z",
     "iopub.status.idle": "2023-04-18T15:25:48.784092Z",
     "shell.execute_reply": "2023-04-18T15:25:48.783104Z"
    },
    "papermill": {
     "duration": 0.698454,
     "end_time": "2023-04-18T15:25:48.786285",
     "exception": false,
     "start_time": "2023-04-18T15:25:48.087831",
     "status": "completed"
    },
    "tags": []
   },
   "outputs": [
    {
     "data": {
      "image/png": "[encoded data removed]",
      "text/plain": [
       "<Figure size 1000x1000 with 25 Axes>"
      ]
     },
     "metadata": {},
     "output_type": "display_data"
    }
   ],
   "source": [
    "fig, axes = plt.subplots(5, 5, figsize=(10, 10))\n",
    "\n",
    "for i in range(5):\n",
    "    for j in range(5):\n",
    "        idx = 5 * i + j\n",
    "        axes[i][j].imshow(test_datasets[idx][0], cmap='gray')\n",
    "        axes[i][j].set_title(result[idx])\n",
    "        axes[i][j].axis('off')\n",
    "\n",
    "plt.show()"
   ]
  },
  {
   "cell_type": "markdown",
   "id": "c33b9301-3ca8-4edb-9947-16b560d62fa3",
   "metadata": {},
   "source": [
    "# Nirmal "
   ]
  },
  {
   "cell_type": "code",
   "execution_count": 9,
   "id": "2ed2c65a",
   "metadata": {
    "execution": {
     "iopub.execute_input": "2023-04-18T15:25:48.806810Z",
     "iopub.status.busy": "2023-04-18T15:25:48.805102Z",
     "iopub.status.idle": "2023-04-18T15:25:48.855218Z",
     "shell.execute_reply": "2023-04-18T15:25:48.854301Z"
    },
    "papermill": {
     "duration": 0.062214,
     "end_time": "2023-04-18T15:25:48.857442",
     "exception": false,
     "start_time": "2023-04-18T15:25:48.795228",
     "status": "completed"
    },
    "tags": []
   },
   "outputs": [],
   "source": [
    "# Sample\n",
    "sample = pd.read_csv(\"/kaggle/input/digit-recognizer/sample_submission.csv\")\n",
    "sample['Label'] = result\n",
    "sample.to_csv('/kaggle/working/submission.csv', index=False)"
   ]
  },
  {
   "cell_type": "code",
   "execution_count": 10,
   "id": "4287f04d",
   "metadata": {
    "execution": {
     "iopub.execute_input": "2023-04-18T15:25:48.876028Z",
     "iopub.status.busy": "2023-04-18T15:25:48.875749Z",
     "iopub.status.idle": "2023-04-18T15:25:48.889035Z",
     "shell.execute_reply": "2023-04-18T15:25:48.888118Z"
    },
    "papermill": {
     "duration": 0.025073,
     "end_time": "2023-04-18T15:25:48.891148",
     "exception": false,
     "start_time": "2023-04-18T15:25:48.866075",
     "status": "completed"
    },
    "tags": []
   },
   "outputs": [
    {
     "data": {
      "text/html": [
       "<div>\n",
       "<style scoped>\n",
       "    .dataframe tbody tr th:only-of-type {\n",
       "        vertical-align: middle;\n",
       "    }\n",
       "\n",
       "    .dataframe tbody tr th {\n",
       "        vertical-align: top;\n",
       "    }\n",
       "\n",
       "    .dataframe thead th {\n",
       "        text-align: right;\n",
       "    }\n",
       "</style>\n",
       "<table border=\"1\" class=\"dataframe\">\n",
       "  <thead>\n",
       "    <tr style=\"text-align: right;\">\n",
       "      <th></th>\n",
       "      <th>ImageId</th>\n",
       "      <th>Label</th>\n",
       "    </tr>\n",
       "  </thead>\n",
       "  <tbody>\n",
       "    <tr>\n",
       "      <th>0</th>\n",
       "      <td>1</td>\n",
       "      <td>2</td>\n",
       "    </tr>\n",
       "    <tr>\n",
       "      <th>1</th>\n",
       "      <td>2</td>\n",
       "      <td>0</td>\n",
       "    </tr>\n",
       "    <tr>\n",
       "      <th>2</th>\n",
       "      <td>3</td>\n",
       "      <td>9</td>\n",
       "    </tr>\n",
       "    <tr>\n",
       "      <th>3</th>\n",
       "      <td>4</td>\n",
       "      <td>9</td>\n",
       "    </tr>\n",
       "    <tr>\n",
       "      <th>4</th>\n",
       "      <td>5</td>\n",
       "      <td>3</td>\n",
       "    </tr>\n",
       "    <tr>\n",
       "      <th>...</th>\n",
       "      <td>...</td>\n",
       "      <td>...</td>\n",
       "    </tr>\n",
       "    <tr>\n",
       "      <th>27995</th>\n",
       "      <td>27996</td>\n",
       "      <td>9</td>\n",
       "    </tr>\n",
       "    <tr>\n",
       "      <th>27996</th>\n",
       "      <td>27997</td>\n",
       "      <td>7</td>\n",
       "    </tr>\n",
       "    <tr>\n",
       "      <th>27997</th>\n",
       "      <td>27998</td>\n",
       "      <td>3</td>\n",
       "    </tr>\n",
       "    <tr>\n",
       "      <th>27998</th>\n",
       "      <td>27999</td>\n",
       "      <td>9</td>\n",
       "    </tr>\n",
       "    <tr>\n",
       "      <th>27999</th>\n",
       "      <td>28000</td>\n",
       "      <td>2</td>\n",
       "    </tr>\n",
       "  </tbody>\n",
       "</table>\n",
       "<p>28000 rows × 2 columns</p>\n",
       "</div>"
      ],
      "text/plain": [
       "       ImageId  Label\n",
       "0            1      2\n",
       "1            2      0\n",
       "2            3      9\n",
       "3            4      9\n",
       "4            5      3\n",
       "...        ...    ...\n",
       "27995    27996      9\n",
       "27996    27997      7\n",
       "27997    27998      3\n",
       "27998    27999      9\n",
       "27999    28000      2\n",
       "\n",
       "[28000 rows x 2 columns]"
      ]
     },
     "execution_count": 10,
     "metadata": {},
     "output_type": "execute_result"
    }
   ],
   "source": [
    "sample"
   ]
  }
 ],
 "metadata": {
  "kernelspec": {
   "display_name": "Python 3 (ipykernel)",
   "language": "python",
   "name": "python3"
  },
  "language_info": {
   "codemirror_mode": {
    "name": "ipython",
    "version": 3
   },
   "file_extension": ".py",
   "mimetype": "text/x-python",
   "name": "python",
   "nbconvert_exporter": "python",
   "pygments_lexer": "ipython3",
   "version": "3.9.12"
  },
  "papermill": {
   "default_parameters": {},
   "duration": 256.356142,
   "end_time": "2023-04-18T15:25:50.424337",
   "environment_variables": {},
   "exception": null,
   "input_path": "__notebook__.ipynb",
   "output_path": "__notebook__.ipynb",
   "parameters": {},
   "start_time": "2023-04-18T15:21:34.068195",
   "version": "2.4.0"
  }
 },
 "nbformat": 4,
 "nbformat_minor": 5
}
