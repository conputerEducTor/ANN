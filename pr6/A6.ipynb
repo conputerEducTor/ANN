{
 "cells": [
  {
   "cell_type": "markdown",
   "id": "43c9e338-b965-41c6-9adc-2160350832b9",
   "metadata": {},
   "source": [
    "# Forward Propagation - Nirmal Avhad"
   ]
  },
  {
   "cell_type": "markdown",
   "id": "cf4f808b-95e8-45ef-a156-95efce634e42",
   "metadata": {},
   "source": [
    "# Backward Propagation"
   ]
  },
  {
   "cell_type": "code",
   "execution_count": 1,
   "id": "ba081845-63da-4a53-8e12-0ad48da736ca",
   "metadata": {},
   "outputs": [
    {
     "name": "stdout",
     "output_type": "stream",
     "text": [
      "Trained Model:\n",
      "Weights1: [[ 5.07358425 -0.56936303  5.4618695 ]\n",
      " [-4.73711669  1.49309314 -5.59285935]]\n",
      "Bias1: [ 2.41673759  1.26225939 -3.02854672]\n",
      "Weights2: [[-7.30574379]\n",
      " [ 1.35456124]\n",
      " [ 7.82120643]]\n",
      "Bias2: [2.27458166]\n",
      "Predictions: [[0.04670612]\n",
      " [0.94765216]\n",
      " [0.95547579]\n",
      " [0.04490256]]\n",
      "\n",
      "\n",
      "\n",
      "\n",
      "Nirmal\n"
     ]
    }
   ],
   "source": [
    "import numpy as np\n",
    "\n",
    "# define the sigmoid function and its derivative\n",
    "def sigmoid(x):\n",
    "    return 1.0 / (1.0 + np.exp(-x))\n",
    "\n",
    "def sigmoid_derivative(x):\n",
    "    return x * (1 - x)\n",
    "\n",
    "# define the neural network class\n",
    "class NeuralNetwork:\n",
    "    def __init__(self, inputs, hidden, outputs):\n",
    "        self.inputs = inputs\n",
    "        self.hidden = hidden\n",
    "        self.outputs = outputs\n",
    "\n",
    "        # initialize the weights and biases\n",
    "        self.weights1 = np.random.randn(self.inputs, self.hidden) \n",
    "        self.bias1 = np.random.randn(self.hidden)\n",
    "\n",
    "        self.weights2 = np.random.randn(self.hidden, self.outputs)\n",
    "        self.bias2 = np.random.randn(self.outputs)\n",
    "\n",
    "    def feedforward(self, X):\n",
    "        # apply the weights and biases to the inputs\n",
    "        self.z1 = np.dot(X, self.weights1) + self.bias1\n",
    "        self.a1 = sigmoid(self.z1)\n",
    "\n",
    "        self.z2 = np.dot(self.a1, self.weights2) + self.bias2\n",
    "        self.a2 = sigmoid(self.z2)\n",
    "\n",
    "        return self.a2\n",
    "\n",
    "    def backpropagation(self, X, y, output, learning_rate):\n",
    "        # calculate the error between predicted and actual output\n",
    "        error = y - output\n",
    "\n",
    "        # calculate the gradient of the error with respect to the weights and biases\n",
    "        d_output = error * sigmoid_derivative(output)\n",
    "        d_hidden = np.dot(d_output, self.weights2.T) * sigmoid_derivative(self.a1)\n",
    "\n",
    "        # update the weights and biases\n",
    "        self.weights2 += learning_rate * np.dot(self.a1.T, d_output)\n",
    "        self.bias2 += learning_rate * np.sum(d_output, axis=0)\n",
    "\n",
    "        self.weights1 += learning_rate * np.dot(X.T, d_hidden)\n",
    "        self.bias1 += learning_rate * np.sum(d_hidden, axis=0)\n",
    "\n",
    "    def train(self, X, y, epochs, learning_rate):\n",
    "        for i in range(epochs):\n",
    "            output = self.feedforward(X)\n",
    "            self.backpropagation(X, y, output, learning_rate)\n",
    "\n",
    "        print('Trained Model:')\n",
    "        print('Weights1:', self.weights1)\n",
    "        print('Bias1:', self.bias1)\n",
    "        print('Weights2:', self.weights2)\n",
    "        print('Bias2:', self.bias2)\n",
    "\n",
    "# example usage\n",
    "X = np.array([[0, 0], [0, 1], [1, 0], [1, 1]])\n",
    "y = np.array([[0], [1], [1], [0]])\n",
    "\n",
    "# initialize the neural network\n",
    "nn = NeuralNetwork(inputs=2, hidden=3, outputs=1)\n",
    "\n",
    "# train the neural network\n",
    "nn.train(X, y, epochs=10000, learning_rate=0.1)\n",
    "\n",
    "# test the neural network\n",
    "output = nn.feedforward(X)\n",
    "print('Predictions:', output)\n",
    "print(\"\\n\\n\\n\")\n",
    "print(\"Nirmal\")"
   ]
  },
  {
   "cell_type": "code",
   "execution_count": 5,
   "id": "1c8ec971-c7ba-424f-840d-ca6359534274",
   "metadata": {},
   "outputs": [
    {
     "name": "stdout",
     "output_type": "stream",
     "text": [
      "Output: [[0.9900106]]\n"
     ]
    }
   ],
   "source": [
    "import numpy as np\n",
    "\n",
    "# Sigmoid activation function\n",
    "def sigmoid(x):\n",
    "    return 1 / (1 + np.exp(-x))\n",
    "\n",
    "# Artificial Neural Network class\n",
    "class NeuralNetwork:\n",
    "    def __init__(self):\n",
    "        np.random.seed(0)\n",
    "        self.weights = 2 * np.random.random((3, 1)) - 1\n",
    "        \n",
    "    def train(self, training_inputs, training_labels, num_epochs):\n",
    "        for epoch in range(num_epochs):\n",
    "            output = sigmoid(np.dot(training_inputs, self.weights))\n",
    "            error = training_labels - output\n",
    "            adjustment = np.dot(training_inputs.T, error * output * (1 - output))\n",
    "            self.weights += adjustment\n",
    "    \n",
    "    def predict(self, inputs):\n",
    "        return sigmoid(np.dot(inputs, self.weights))\n",
    "\n",
    "# Example usage\n",
    "# Training data\n",
    "training_inputs = np.array([[0, 0, 1], [1, 1, 1], [1, 0, 1], [0, 1, 1]])\n",
    "training_labels = np.array([[0], [1], [1], [0]])\n",
    "\n",
    "# Create a neural network\n",
    "neural_network = NeuralNetwork()\n",
    "\n",
    "# Train the neural network\n",
    "neural_network.train(training_inputs, training_labels, num_epochs=100)\n",
    "\n",
    "# Test the neural network with a new input\n",
    "new_input = np.array([[1, 0, 0]])\n",
    "output = neural_network.predict(new_input)\n",
    "print(\"Output:\", output)\n"
   ]
  }
 ],
 "metadata": {
  "kernelspec": {
   "display_name": "Python 3 (ipykernel)",
   "language": "python",
   "name": "python3"
  },
  "language_info": {
   "codemirror_mode": {
    "name": "ipython",
    "version": 3
   },
   "file_extension": ".py",
   "mimetype": "text/x-python",
   "name": "python",
   "nbconvert_exporter": "python",
   "pygments_lexer": "ipython3",
   "version": "3.9.12"
  }
 },
 "nbformat": 4,
 "nbformat_minor": 5
}
